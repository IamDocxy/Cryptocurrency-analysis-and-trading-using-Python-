{
 "cells": [
  {
   "cell_type": "markdown",
   "metadata": {},
   "source": [
    "#        Dependencies:\n",
    "            pip install tweepy\n",
    "            pip install textblob\n",
    "            python -m textblob.download_corpora             #Corpora is a larget and structured set of texts\n",
    "        \"\"\""
   ]
  },
  {
   "cell_type": "code",
   "execution_count": 7,
   "metadata": {
    "collapsed": true
   },
   "outputs": [],
   "source": [
    "import re        #Regular Expression: For data cleaning\n",
    "import tweepy    #Python client for Twitter API\n",
    "import textblob  #For Processing textual data\n",
    "from tweepy import OAuthHandler\n",
    "from textblob import TextBlob\n",
    "from keys import Keys          # Twitter App credentials for mining the data\n"
   ]
  },
  {
   "cell_type": "markdown",
   "metadata": {},
   "source": [
    "# Defining the Twitter Client Object"
   ]
  },
  {
   "cell_type": "code",
   "execution_count": 8,
   "metadata": {
    "collapsed": true
   },
   "outputs": [],
   "source": [
    "class TwitterClient(object):    \n",
    "    #Twitter Class for sentiment Analysis\n",
    "    def __init__(self):     #Constructor\n",
    "        keys = Keys()\n",
    "        [consumer_key,consumer_secret,access_token,access_token_secret] = keys.get_keys()\n",
    "        try:\n",
    "            #Creating OAuth Handler Object\n",
    "            self.auth = OAuthHandler(consumer_key,consumer_secret)\n",
    "            self.auth.set_access_token(access_token,access_token_secret)\n",
    "            self.api = tweepy.API(self.auth)\n",
    "        except:\n",
    "            print(\"Error : Authentication Failed\")\n",
    "\n",
    "    def clean_tweet(self,tweet):\n",
    "        \"\"\"For cleaning the tweets\"\"\"\n",
    "        return ' '.join(re.sub(\"(@[A-Za-z0-9]+)|([^0-9A-Za-z \\t])|(\\w+:\\/\\/\\S+)\", \" \", tweet).split())\n",
    "\n",
    "    def get_tweet_sentiment(self,tweet):\n",
    "        \"\"\"Uses TextBlobs Sendtiment Analysis method to find sentiment of the tweet\n",
    "        TextBlob uses a Movies Reviews dataset in which reviews have already been labelled as positive or negative.\n",
    "        Positive and negative features are extracted from each positive and negative review respectively.\n",
    "        Training data now consists of labelled positive and negative features. This data is trained on a Naive Bayes Classifier.\n",
    "        \"\"\"\n",
    "        analysis = TextBlob(self.clean_tweet(tweet))\n",
    "#        print(analysis)\n",
    "        \n",
    "        if analysis.sentiment.polarity > 0:\n",
    "            return 'positive'\n",
    "        elif analysis.sentiment.polarity == 0:\n",
    "            return 'neutral'\n",
    "        else:\n",
    "            return 'negative'\n",
    "            \n",
    "    def get_tweets(self,query,count=10):\n",
    "        tweets = []\n",
    "        try:\n",
    "            fetched_tweets = self.api.search(q=query,count = count)\n",
    "            for tweet in fetched_tweets:\n",
    "                parsed_tweet = {}\n",
    "                parsed_tweet['text'] = tweet.text\n",
    "                parsed_tweet['sentiment'] = self.get_tweet_sentiment(tweet.text)\n",
    "                \n",
    "                if tweet.retweet_count > 0:\n",
    "                    if parsed_tweet not in tweets:\n",
    "                        tweets.append(parsed_tweet)\n",
    "                else:\n",
    "                    tweets.append(parsed_tweet)\n",
    "            return tweets\n",
    "        except tweepy.TweepError as e:\n",
    "            print(\"Error: %s\" % str(e))\n",
    "    "
   ]
  },
  {
   "cell_type": "markdown",
   "metadata": {},
   "source": [
    "# Main function "
   ]
  },
  {
   "cell_type": "code",
   "execution_count": 9,
   "metadata": {
    "collapsed": false
   },
   "outputs": [
    {
     "ename": "IndentationError",
     "evalue": "expected an indented block (<ipython-input-9-5730412d9201>, line 14)",
     "output_type": "error",
     "traceback": [
      "\u001b[0;36m  File \u001b[0;32m\"<ipython-input-9-5730412d9201>\"\u001b[0;36m, line \u001b[0;32m14\u001b[0m\n\u001b[0;31m    ptweets.append(tweet)\u001b[0m\n\u001b[0m                         ^\u001b[0m\n\u001b[0;31mIndentationError\u001b[0m\u001b[0;31m:\u001b[0m expected an indented block\n"
     ]
    }
   ],
   "source": [
    "            \n",
    "def main():\n",
    "    api = TwitterClient()       #Creating TwitterClient Object\n",
    "#    public_tweets = api.api.home_timeline()\n",
    "#    for tweet in public_tweets:\n",
    "#        print(tweet.text,\"\\n\")\n",
    "    tweets = api.get_tweets(query =\"litecoin\",count = 100)\n",
    "    \n",
    "    ptweets = []\n",
    "    ntweets = []\n",
    "    \n",
    "    for tweet in tweets:\n",
    "        if tweet['sentiment'] == 'positive':\n",
    "            ptweets.append(tweet)\n",
    "        elif tweet['sentiment'] == 'negative':\n",
    "            ntweets.append(tweet)\n",
    "#    ptweets = [tweet for tweet in tweets if tweet['sentiment'] == 'positive']\n",
    "    print('Positive tweets percentage : %s ' % str((len(ptweets)*100)/len(tweets)))\n",
    "    \n",
    "#    ntweets = [tweet for tweet in tweets if tweet['sentiment'] == 'negative']\n",
    "    print('Negative tweets percentage : %s ' % ((len(ntweets)*100)/len(tweets)))\n",
    "    \n",
    "    print(\"***************************** Positive Tweets **********************************\\n\")\n",
    "    for tweet in ptweets:\n",
    "        print(tweet['text'],\"\\n\")\n",
    "        \n",
    "    print('\\n\\n\\n\\n')\n",
    "    \n",
    "    print(\"***************************** Negative Tweets **********************************\\n\")\n",
    "    for tweet in ntweets:\n",
    "        print(tweet['text'],\"\\n\")\n",
    "    \n",
    "    \n",
    "if __name__ == \"__main__\":\n",
    "    main()\n",
    "    "
   ]
  },
  {
   "cell_type": "code",
   "execution_count": null,
   "metadata": {
    "collapsed": true
   },
   "outputs": [],
   "source": []
  }
 ],
 "metadata": {
  "kernelspec": {
   "display_name": "Python [conda env:Anaconda]",
   "language": "python",
   "name": "conda-env-Anaconda-py"
  },
  "language_info": {
   "codemirror_mode": {
    "name": "ipython",
    "version": 3
   },
   "file_extension": ".py",
   "mimetype": "text/x-python",
   "name": "python",
   "nbconvert_exporter": "python",
   "pygments_lexer": "ipython3",
   "version": "3.6.0"
  }
 },
 "nbformat": 4,
 "nbformat_minor": 2
}
